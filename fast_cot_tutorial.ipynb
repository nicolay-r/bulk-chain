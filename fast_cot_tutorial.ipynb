{
  "nbformat": 4,
  "nbformat_minor": 0,
  "metadata": {
    "colab": {
      "provenance": [],
      "authorship_tag": "ABX9TyN0//Q1WVYxAh2N027U3kdt",
      "include_colab_link": true
    },
    "kernelspec": {
      "name": "python3",
      "display_name": "Python 3"
    },
    "language_info": {
      "name": "python"
    }
  },
  "cells": [
    {
      "cell_type": "markdown",
      "metadata": {
        "id": "view-in-github",
        "colab_type": "text"
      },
      "source": [
        "<a href=\"https://colab.research.google.com/github/nicolay-r/fast-cot/blob/master/fast_cot_tutorial.ipynb\" target=\"_parent\"><img src=\"https://colab.research.google.com/assets/colab-badge.svg\" alt=\"Open In Colab\"/></a>"
      ]
    },
    {
      "cell_type": "markdown",
      "source": [
        "# Fast-CoT Tutorial\n",
        "\n",
        "This is a tutorial for project:\n",
        "https://github.com/nicolay-r/fast-cot"
      ],
      "metadata": {
        "id": "Yisdm7z7-kXx"
      }
    },
    {
      "cell_type": "code",
      "source": [
        "!pip install git+https://github.com/nicolay-r/fast-cot@master"
      ],
      "metadata": {
        "id": "73w_wfBl1NjM",
        "outputId": "c329d04a-ebb1-44d9-e47f-0e79344ba3bb",
        "colab": {
          "base_uri": "https://localhost:8080/"
        }
      },
      "execution_count": 1,
      "outputs": [
        {
          "output_type": "stream",
          "name": "stdout",
          "text": [
            "Collecting git+https://github.com/nicolay-r/fast-cot@master\n",
            "  Cloning https://github.com/nicolay-r/fast-cot (to revision master) to /tmp/pip-req-build-p_eidsv1\n",
            "  Running command git clone --filter=blob:none --quiet https://github.com/nicolay-r/fast-cot /tmp/pip-req-build-p_eidsv1\n",
            "  Resolved https://github.com/nicolay-r/fast-cot to commit 583af331484f6315bf9da3896de7b4c582806eb9\n",
            "  Preparing metadata (setup.py) ... \u001b[?25l\u001b[?25hdone\n",
            "Requirement already satisfied: tqdm in /usr/local/lib/python3.10/dist-packages (from fast_cot==0.24.0) (4.66.5)\n",
            "Building wheels for collected packages: fast_cot\n",
            "  Building wheel for fast_cot (setup.py) ... \u001b[?25l\u001b[?25hdone\n",
            "  Created wheel for fast_cot: filename=fast_cot-0.24.0-py3-none-any.whl size=13451 sha256=87826168051d8e3d77bc25ffe0a3ebfb950006ce025c59bac572eae015a878e4\n",
            "  Stored in directory: /tmp/pip-ephem-wheel-cache-wgq9m8en/wheels/6f/c1/9f/e077f1421761cc99b702403e16a038866d8aa40f52f4f275d3\n",
            "Successfully built fast_cot\n",
            "Installing collected packages: fast_cot\n",
            "Successfully installed fast_cot-0.24.0\n"
          ]
        }
      ]
    },
    {
      "cell_type": "markdown",
      "source": [],
      "metadata": {
        "id": "xXnPbHzY_xjo"
      }
    },
    {
      "cell_type": "markdown",
      "source": [
        "## Download Chain-of-Thought Schema"
      ],
      "metadata": {
        "id": "2ckl0sG_94Ak"
      }
    },
    {
      "cell_type": "code",
      "source": [
        "# Download Chain-of-Thought Schema.\n",
        "!wget https://raw.githubusercontent.com/nicolay-r/fast-cot/refs/heads/master/ext/schema/default.json\n",
        "!cat default.json\n",
        "# Download model\n",
        "!wget https://raw.githubusercontent.com/nicolay-r/fast-cot/refs/heads/master/ext/flan_t5.py"
      ],
      "metadata": {
        "id": "xHnT3kEv7zjC",
        "outputId": "e56576ef-fdd9-4e68-cfe4-c3707463f91b",
        "colab": {
          "base_uri": "https://localhost:8080/"
        }
      },
      "execution_count": 2,
      "outputs": [
        {
          "output_type": "stream",
          "name": "stdout",
          "text": [
            "--2024-09-27 11:06:04--  https://raw.githubusercontent.com/nicolay-r/fast-cot/refs/heads/master/ext/schema/default.json\n",
            "Resolving raw.githubusercontent.com (raw.githubusercontent.com)... 185.199.108.133, 185.199.109.133, 185.199.110.133, ...\n",
            "Connecting to raw.githubusercontent.com (raw.githubusercontent.com)|185.199.108.133|:443... connected.\n",
            "HTTP request sent, awaiting response... 200 OK\n",
            "Length: 87 [text/plain]\n",
            "Saving to: ‘default.json’\n",
            "\n",
            "\rdefault.json          0%[                    ]       0  --.-KB/s               \rdefault.json        100%[===================>]      87  --.-KB/s    in 0s      \n",
            "\n",
            "2024-09-27 11:06:05 (1.15 MB/s) - ‘default.json’ saved [87/87]\n",
            "\n",
            "{\n",
            "  \"name\": \"default\",\n",
            "  \"schema\": [\n",
            "    {\"prompt\": \"{text}\", \"out\": \"response\"}\n",
            "  ]\n",
            "}\n",
            "--2024-09-27 11:06:05--  https://raw.githubusercontent.com/nicolay-r/fast-cot/refs/heads/master/ext/flan_t5.py\n",
            "Resolving raw.githubusercontent.com (raw.githubusercontent.com)... 185.199.108.133, 185.199.109.133, 185.199.110.133, ...\n",
            "Connecting to raw.githubusercontent.com (raw.githubusercontent.com)|185.199.108.133|:443... connected.\n",
            "HTTP request sent, awaiting response... 200 OK\n",
            "Length: 1175 (1.1K) [text/plain]\n",
            "Saving to: ‘flan_t5.py’\n",
            "\n",
            "flan_t5.py          100%[===================>]   1.15K  --.-KB/s    in 0s      \n",
            "\n",
            "2024-09-27 11:06:05 (53.0 MB/s) - ‘flan_t5.py’ saved [1175/1175]\n",
            "\n"
          ]
        }
      ]
    },
    {
      "cell_type": "markdown",
      "source": [
        "## Launch Inference as demo\n",
        "\n",
        "This is a chat mode, which is interactively will respond to your query."
      ],
      "metadata": {
        "id": "IiQemhQZ-D8Q"
      }
    },
    {
      "cell_type": "code",
      "source": [
        "!python -m fast_cot.infer \\\n",
        "    --schema \"default.json\" \\\n",
        "    --adapter \"dynamic:flan_t5.py:FlanT5\" \\\n",
        "    %% \\\n",
        "    --device \"cpu\" \\\n",
        "    --temp 0.1"
      ],
      "metadata": {
        "id": "YwmlDzeG0N7r"
      },
      "execution_count": null,
      "outputs": []
    },
    {
      "cell_type": "markdown",
      "source": [
        "## Launch Inference from file\n",
        "\n",
        "You can specify the `--src` input file that has column mentioned in `default.json`"
      ],
      "metadata": {
        "id": "XmTvJJYP-PIj"
      }
    },
    {
      "cell_type": "code",
      "source": [
        "!wget -O input.csv https://raw.githubusercontent.com/nicolay-r/fast-cot/refs/heads/master/test/data/sample.csv"
      ],
      "metadata": {
        "id": "qExjm69mKwqR"
      },
      "execution_count": null,
      "outputs": []
    },
    {
      "cell_type": "code",
      "source": [
        "# Create simple file.\n",
        "!echo -en \"text\\nWhat's the color of the sky?\" > \"input.csv\"\n",
        "!cat \"input.csv\""
      ],
      "metadata": {
        "id": "opOVPm08L4YO",
        "outputId": "89fc59f8-cef7-430c-b7b0-85ce9680e7d8",
        "colab": {
          "base_uri": "https://localhost:8080/"
        }
      },
      "execution_count": 17,
      "outputs": [
        {
          "output_type": "stream",
          "name": "stdout",
          "text": [
            "text\n",
            "What's the color of the sky?"
          ]
        }
      ]
    },
    {
      "cell_type": "code",
      "source": [
        "!python -m fast_cot.infer \\\n",
        "    --schema \"default.json\" \\\n",
        "    --src \"input.csv\" \\\n",
        "    --adapter \"dynamic:flan_t5.py:FlanT5\" \\\n",
        "    %% \\\n",
        "    --device \"cpu\" \\\n",
        "    --temp 0.1"
      ],
      "metadata": {
        "id": "T5Ylxyp7-HwR",
        "outputId": "69e73914-b93d-4220-a470-21c4629a5f02",
        "colab": {
          "base_uri": "https://localhost:8080/"
        }
      },
      "execution_count": 19,
      "outputs": [
        {
          "output_type": "stream",
          "name": "stdout",
          "text": [
            "INFO:fast_cot.core.utils:Dynamic loading for the file and class `flan_t5.FlanT5`\n",
            "/usr/local/lib/python3.10/dist-packages/transformers/tokenization_utils_base.py:1601: FutureWarning: `clean_up_tokenization_spaces` was not set. It will be set to `True` by default. This behavior will be depracted in transformers v4.45, and will be then set to `False` by default. For more details check this issue: https://github.com/huggingface/transformers/issues/31884\n",
            "  warnings.warn(\n",
            "INFO:__main__:Using schema: default\n",
            "Iter content: 1it [00:00,  3.38it/s]\n",
            "INFO:fast_cot.core.service_csv:Saving: /content/input.csv_google_flan-t5-base_default.csv\n"
          ]
        }
      ]
    }
  ]
}