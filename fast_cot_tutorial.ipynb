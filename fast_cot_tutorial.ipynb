{
  "nbformat": 4,
  "nbformat_minor": 0,
  "metadata": {
    "colab": {
      "provenance": [],
      "authorship_tag": "ABX9TyOtPzH5Tep8aYNvVg1MzW0e",
      "include_colab_link": true
    },
    "kernelspec": {
      "name": "python3",
      "display_name": "Python 3"
    },
    "language_info": {
      "name": "python"
    }
  },
  "cells": [
    {
      "cell_type": "markdown",
      "metadata": {
        "id": "view-in-github",
        "colab_type": "text"
      },
      "source": [
        "<a href=\"https://colab.research.google.com/github/nicolay-r/fast-cot/blob/master/fast_cot_tutorial.ipynb\" target=\"_parent\"><img src=\"https://colab.research.google.com/assets/colab-badge.svg\" alt=\"Open In Colab\"/></a>"
      ]
    },
    {
      "cell_type": "markdown",
      "source": [
        "# Fast-CoT Tutorial\n",
        "\n",
        "This is a tutorial for project:\n",
        "https://github.com/nicolay-r/fast-cot"
      ],
      "metadata": {
        "id": "Yisdm7z7-kXx"
      }
    },
    {
      "cell_type": "code",
      "source": [
        "!pip install git+https://github.com/nicolay-r/fast-cot@master"
      ],
      "metadata": {
        "id": "73w_wfBl1NjM"
      },
      "execution_count": null,
      "outputs": []
    },
    {
      "cell_type": "markdown",
      "source": [],
      "metadata": {
        "id": "xXnPbHzY_xjo"
      }
    },
    {
      "cell_type": "markdown",
      "source": [
        "## Download Chain-of-Thought Schema"
      ],
      "metadata": {
        "id": "2ckl0sG_94Ak"
      }
    },
    {
      "cell_type": "code",
      "source": [
        "# Download Chain-of-Thought Schema.\n",
        "!wget https://raw.githubusercontent.com/nicolay-r/fast-cot/refs/heads/master/ext/schema/default.json\n",
        "!cat default.json\n",
        "# Download model\n",
        "!wget https://raw.githubusercontent.com/nicolay-r/fast-cot/refs/heads/master/ext/flan_t5.py"
      ],
      "metadata": {
        "id": "xHnT3kEv7zjC"
      },
      "execution_count": null,
      "outputs": []
    },
    {
      "cell_type": "markdown",
      "source": [
        "## Launch Inference\n",
        "\n",
        "This is a `chat` mode, which is interactively will respond to your query."
      ],
      "metadata": {
        "id": "IiQemhQZ-D8Q"
      }
    },
    {
      "cell_type": "code",
      "source": [
        "!python -m fast_cot.infer --model \"dynamic:flan_t5.py:FlanT5\" --schema \"default.json\" --device \"cpu\" --temp 0.1 --max-length 512"
      ],
      "metadata": {
        "id": "YwmlDzeG0N7r"
      },
      "execution_count": null,
      "outputs": []
    },
    {
      "cell_type": "markdown",
      "source": [
        "You can specify the `--src` input file that has column mentioned in `default.json`"
      ],
      "metadata": {
        "id": "XmTvJJYP-PIj"
      }
    },
    {
      "cell_type": "code",
      "source": [
        "!python -m fast_cot.infer --model \"dynamic:flan_t5.py:FlanT5\" --schema \"default.json\" --device \"cpu\" --temp 0.1 --max-length 512 \\\n",
        "    --src \"INPUT_CSV_FILE.CSV\""
      ],
      "metadata": {
        "id": "T5Ylxyp7-HwR"
      },
      "execution_count": null,
      "outputs": []
    }
  ]
}