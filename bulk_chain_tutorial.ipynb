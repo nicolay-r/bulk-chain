{
  "nbformat": 4,
  "nbformat_minor": 0,
  "metadata": {
    "colab": {
      "provenance": [],
      "include_colab_link": true
    },
    "kernelspec": {
      "name": "python3",
      "display_name": "Python 3"
    },
    "language_info": {
      "name": "python"
    }
  },
  "cells": [
    {
      "cell_type": "markdown",
      "metadata": {
        "id": "view-in-github",
        "colab_type": "text"
      },
      "source": [
        "<a href=\"https://colab.research.google.com/github/nicolay-r/bulk-chain/blob/master/bulk_chain_tutorial.ipynb\" target=\"_parent\"><img src=\"https://colab.research.google.com/assets/colab-badge.svg\" alt=\"Open In Colab\"/></a>"
      ]
    },
    {
      "cell_type": "markdown",
      "source": [
        "# Fast-CoT Tutorial\n",
        "\n",
        "This is a tutorial for project:\n",
        "https://github.com/nicolay-r/bulk-chain"
      ],
      "metadata": {
        "id": "Yisdm7z7-kXx"
      }
    },
    {
      "cell_type": "code",
      "source": [
        "!pip install bulk-chain"
      ],
      "metadata": {
        "id": "73w_wfBl1NjM"
      },
      "execution_count": null,
      "outputs": []
    },
    {
      "cell_type": "markdown",
      "source": [],
      "metadata": {
        "id": "xXnPbHzY_xjo"
      }
    },
    {
      "cell_type": "markdown",
      "source": [
        "## Download Chain-of-Thought Schema"
      ],
      "metadata": {
        "id": "2ckl0sG_94Ak"
      }
    },
    {
      "cell_type": "code",
      "source": [
        "# Download Chain-of-Thought Schema.\n",
        "!wget https://raw.githubusercontent.com/nicolay-r/bulk-chain/refs/heads/master/ext/schema/default.json\n",
        "!cat default.json\n",
        "# Download model\n",
        "!wget https://raw.githubusercontent.com/nicolay-r/bulk-chain/refs/heads/master/ext/flan_t5.py"
      ],
      "metadata": {
        "id": "xHnT3kEv7zjC"
      },
      "execution_count": null,
      "outputs": []
    },
    {
      "cell_type": "markdown",
      "source": [
        "## Launch Inference\n",
        "\n",
        "This is a `chat` mode, which is interactively will respond to your query."
      ],
      "metadata": {
        "id": "IiQemhQZ-D8Q"
      }
    },
    {
      "cell_type": "code",
      "source": [
        "!python -m bulk_chain.infer \\\n",
        "    --schema \"default.json\" \\\n",
        "    --adapter \"dynamic:flan_t5.py:FlanT5\" \\\n",
        "    %% \\\n",
        "    --device \"cpu\" \\\n",
        "    --temp 0.1"
      ],
      "metadata": {
        "id": "YwmlDzeG0N7r"
      },
      "execution_count": null,
      "outputs": []
    },
    {
      "cell_type": "markdown",
      "source": [
        "You can specify the `--src` input file that has column mentioned in `default.json`"
      ],
      "metadata": {
        "id": "XmTvJJYP-PIj"
      }
    },
    {
      "cell_type": "code",
      "source": [
        "!python -m bulk_chain.infer \\\n",
        "    --src \"INPUT_CSV_FILE.csv\" \\\n",
        "    --schema \"default.json\" \\\n",
        "    --adapter \"dynamic:flan_t5.py:FlanT5\" \\\n",
        "    %% \\\n",
        "    --device \"cpu\" \\\n",
        "    --temp 0.1"
      ],
      "metadata": {
        "id": "T5Ylxyp7-HwR"
      },
      "execution_count": null,
      "outputs": []
    }
  ]
}
